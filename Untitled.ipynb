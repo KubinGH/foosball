{
 "cells": [
  {
   "cell_type": "code",
   "execution_count": 1,
   "id": "1f2cde7a",
   "metadata": {},
   "outputs": [],
   "source": [
    "import numpy as np\n",
    "from numpy import linalg\n",
    "import requests\n",
    "import csv"
   ]
  },
  {
   "cell_type": "code",
   "execution_count": 2,
   "id": "ce3e464c",
   "metadata": {},
   "outputs": [
    {
     "data": {
      "text/plain": [
       "294"
      ]
     },
     "execution_count": 2,
     "metadata": {},
     "output_type": "execute_result"
    }
   ],
   "source": [
    "csv_url = \"https://docs.google.com/spreadsheets/d/1ijei0ZhIdPiY_TazfB2JZAAoNi3CWowgPquQuLv3oSU/edit?usp=sharing\"\n",
    "key = \"1ijei0ZhIdPiY_TazfB2JZAAoNi3CWowgPquQuLv3oSU\"\n",
    "sheet_name = \"games\"\n",
    "csv_url = f\"https://docs.google.com/spreadsheets/d/{key}/gviz/tq?tqx=out:csv&sheet={sheet_name}\"\n",
    "result = requests.get(url=csv_url)\n",
    "open(\"games.csv\", \"wb\").write(result.content)"
   ]
  },
  {
   "cell_type": "code",
   "execution_count": 3,
   "id": "0bb7499c",
   "metadata": {},
   "outputs": [
    {
     "data": {
      "text/plain": [
       "{'KevinLuo': 0,\n",
       " 'DamianBarabonov': 1,\n",
       " 'ConnorLeggett': 2,\n",
       " 'ChrisOng': 3,\n",
       " 'AlyssaChen': 4,\n",
       " 'ChrisDevries': 5}"
      ]
     },
     "execution_count": 3,
     "metadata": {},
     "output_type": "execute_result"
    }
   ],
   "source": [
    "players_set = set()\n",
    "games = []\n",
    "\n",
    "def extract_players(game):\n",
    "    positions = [\n",
    "        \"team_1_player_1\",\n",
    "        \"team_1_player_2\",\n",
    "        \"team_2_player_1\",\n",
    "        \"team_2_player_2\",\n",
    "    ]\n",
    "    players = {game[position] for position in positions if game[position]}\n",
    "    return players\n",
    "\n",
    "with open('games.csv') as csvfile:\n",
    "    reader = csv.DictReader(csvfile)\n",
    "    for row in reader:\n",
    "        games.append(row)\n",
    "\n",
    "for game in games:\n",
    "    players_set = players_set.union(extract_players(game))\n",
    "\n",
    "players = list(players_set)\n",
    "n_players = len(players)\n",
    "player_numbers = {players[i]: i for i in range(n_players)}\n",
    "player_numbers"
   ]
  },
  {
   "cell_type": "code",
   "execution_count": 4,
   "id": "5e80e766",
   "metadata": {},
   "outputs": [],
   "source": [
    "games_matrix = np.zeros((len(games), n_players))\n",
    "results_array = np.zeros(len(games))"
   ]
  },
  {
   "cell_type": "code",
   "execution_count": 5,
   "id": "876961cf",
   "metadata": {},
   "outputs": [
    {
     "name": "stdout",
     "output_type": "stream",
     "text": [
      "{'team_1_player_1': 'ConnorLeggett', 'team_1_player_2': 'ChrisOng', 'team_2_player_1': 'AlyssaChen', 'team_2_player_2': 'KevinLuo', 'team_1_score': '10', 'team_2_score': '6'}\n",
      "0\n",
      "{'team_1_player_1': 'AlyssaChen', 'team_1_player_2': 'DamianBarabonov', 'team_2_player_1': 'ChrisDevries', 'team_2_player_2': 'ChrisOng', 'team_1_score': '8', 'team_2_score': '10'}\n",
      "1\n",
      "{'team_1_player_1': 'ChrisOng', 'team_1_player_2': 'AlyssaChen', 'team_2_player_1': 'DamianBarabonov', 'team_2_player_2': 'ConnorLeggett', 'team_1_score': '6', 'team_2_score': '10'}\n",
      "2\n"
     ]
    }
   ],
   "source": [
    "for row, game in enumerate(games):\n",
    "    print(game)\n",
    "    print(row)\n",
    "    games_matrix[row, player_numbers[game[\"team_1_player_1\"]]] = 1\n",
    "    games_matrix[row, player_numbers[game[\"team_2_player_1\"]]] = -1\n",
    "    games_matrix[row, player_numbers[game[\"team_1_player_2\"]]] = 1\n",
    "    games_matrix[row, player_numbers[game[\"team_2_player_2\"]]] = -1\n",
    "    results_array[row] = int(game[\"team_1_score\"]) - int(game[\"team_2_score\"])\n",
    "    \n",
    "    \n",
    "    "
   ]
  },
  {
   "cell_type": "code",
   "execution_count": 6,
   "id": "dd60a3fe",
   "metadata": {},
   "outputs": [
    {
     "data": {
      "text/plain": [
       "(array([[-1.,  0.,  1.,  1., -1.,  0.],\n",
       "        [ 0.,  1.,  0., -1.,  1., -1.],\n",
       "        [ 0., -1., -1.,  1.,  1.,  0.]]),\n",
       " array([ 4., -2., -4.]))"
      ]
     },
     "execution_count": 6,
     "metadata": {},
     "output_type": "execute_result"
    }
   ],
   "source": [
    "games_matrix, results_array"
   ]
  },
  {
   "cell_type": "code",
   "execution_count": 7,
   "id": "99aad61c",
   "metadata": {},
   "outputs": [
    {
     "name": "stderr",
     "output_type": "stream",
     "text": [
      "/var/folders/hq/ypf9892n1s94fwgm0p6k6k8m0000gn/T/ipykernel_1121/3683360901.py:1: FutureWarning: `rcond` parameter will change to the default of machine precision times ``max(M, N)`` where M and N are the input matrix dimensions.\n",
      "To use the future default and silence this warning we advise to pass `rcond=None`, to keep using the old, explicitly pass `rcond=-1`.\n",
      "  scores = linalg.lstsq(games_matrix,results_array)[0]\n"
     ]
    }
   ],
   "source": [
    "scores = linalg.lstsq(games_matrix,results_array)[0]"
   ]
  },
  {
   "cell_type": "code",
   "execution_count": 8,
   "id": "4841a852",
   "metadata": {},
   "outputs": [],
   "source": [
    "player_scores = {players[i]: scores[i] for i in range(n_players)}"
   ]
  },
  {
   "cell_type": "code",
   "execution_count": 9,
   "id": "b1385f6f",
   "metadata": {},
   "outputs": [],
   "source": [
    "players.sort(key=lambda p: player_scores[p], reverse=True)"
   ]
  },
  {
   "cell_type": "code",
   "execution_count": 10,
   "id": "398d2ddb",
   "metadata": {},
   "outputs": [
    {
     "data": {
      "text/plain": [
       "['ConnorLeggett',\n",
       " 'DamianBarabonov',\n",
       " 'ChrisDevries',\n",
       " 'ChrisOng',\n",
       " 'KevinLuo',\n",
       " 'AlyssaChen']"
      ]
     },
     "execution_count": 10,
     "metadata": {},
     "output_type": "execute_result"
    }
   ],
   "source": [
    "players"
   ]
  },
  {
   "cell_type": "code",
   "execution_count": 11,
   "id": "58b69223",
   "metadata": {},
   "outputs": [
    {
     "name": "stdout",
     "output_type": "stream",
     "text": [
      "1: ConnorLeggett (1.500)\n",
      "2: DamianBarabonov (0.500)\n",
      "3: ChrisDevries (0.500)\n",
      "4: ChrisOng (-0.000)\n",
      "5: KevinLuo (-0.500)\n",
      "6: AlyssaChen (-2.000)\n"
     ]
    }
   ],
   "source": [
    "for i, player in enumerate(players):\n",
    "    print(f\"{i + 1}: {player} ({player_scores[player]:.3f})\")"
   ]
  },
  {
   "cell_type": "markdown",
   "id": "32f3cdb6",
   "metadata": {},
   "source": [
    "# ELO-based system"
   ]
  },
  {
   "cell_type": "code",
   "execution_count": 18,
   "id": "f9c100ba",
   "metadata": {},
   "outputs": [],
   "source": [
    "def calc_expected_score(p1_rating, p2_rating, p3_rating, p4_rating):\n",
    "    team_1 = (p1_rating + p2_rating) / 2\n",
    "    team_2 = (p3_rating + p4_rating) / 2\n",
    "    e_team_1 = 1 / (1 + 10 ** ((team_2 - team_1) / 500))\n",
    "    return e_team_1\n",
    "    \n",
    "def calc_true_score(score_1, score_2):\n",
    "    return score_1 / (score_1 + score_2)\n",
    "\n",
    "def calc_adjusted_rating(true_score, expected_score, old_rating):\n",
    "    return old_rating + 100 * (true_score - expected_score)"
   ]
  },
  {
   "cell_type": "code",
   "execution_count": 19,
   "id": "0cdaca29",
   "metadata": {},
   "outputs": [
    {
     "name": "stdout",
     "output_type": "stream",
     "text": [
      "{'ConnorLeggett': 1000, 'DamianBarabonov': 1000, 'ChrisDevries': 1000, 'ChrisOng': 1000, 'KevinLuo': 1000, 'AlyssaChen': 1000}\n",
      "0.5 0.625 True\n",
      "{'ConnorLeggett': 1012.5, 'DamianBarabonov': 1000, 'ChrisDevries': 1000, 'ChrisOng': 1012.5, 'KevinLuo': 987.5, 'AlyssaChen': 987.5}\n",
      "0.48561281583400134 0.4444444444444444 False\n",
      "{'ConnorLeggett': 1012.5, 'DamianBarabonov': 995.8831628610443, 'ChrisDevries': 1004.1168371389557, 'ChrisOng': 1016.6168371389557, 'KevinLuo': 987.5, 'AlyssaChen': 983.3831628610443}\n",
      "0.4951744133760339 0.375 False\n"
     ]
    },
    {
     "data": {
      "text/plain": [
       "{'ConnorLeggett': 1024.5174413376035,\n",
       " 'DamianBarabonov': 1007.9006041986477,\n",
       " 'ChrisDevries': 1004.1168371389557,\n",
       " 'ChrisOng': 1004.5993958013523,\n",
       " 'KevinLuo': 987.5,\n",
       " 'AlyssaChen': 971.3657215234409}"
      ]
     },
     "execution_count": 19,
     "metadata": {},
     "output_type": "execute_result"
    }
   ],
   "source": [
    "elo_scores = {player: 1000 for player in players}\n",
    "\n",
    "for game in games:\n",
    "    expected_score_1 = calc_expected_score(\n",
    "        elo_scores[game[\"team_1_player_1\"]],\n",
    "        elo_scores[game[\"team_1_player_2\"]],\n",
    "        elo_scores[game[\"team_2_player_1\"]],\n",
    "        elo_scores[game[\"team_2_player_2\"]],\n",
    "    )\n",
    "    true_score = calc_true_score(\n",
    "        int(game[\"team_1_score\"]), \n",
    "        int(game[\"team_2_score\"])\n",
    "    )\n",
    "    team_1_win = int(game[\"team_1_score\"]) - int(game[\"team_2_score\"]) > 0\n",
    "    print(elo_scores)\n",
    "    print(expected_score_1, true_score, team_1_win)\n",
    "    elo_scores[game[\"team_1_player_1\"]] = calc_adjusted_rating(\n",
    "        true_score,\n",
    "        expected_score_1,\n",
    "        elo_scores[game[\"team_1_player_1\"]],\n",
    "    )\n",
    "    elo_scores[game[\"team_1_player_2\"]] = calc_adjusted_rating(\n",
    "        true_score,\n",
    "        expected_score_1,\n",
    "        elo_scores[game[\"team_1_player_2\"]],\n",
    "    )\n",
    "    elo_scores[game[\"team_2_player_1\"]] = calc_adjusted_rating(\n",
    "        1 - true_score,\n",
    "        1 - expected_score_1,\n",
    "        elo_scores[game[\"team_2_player_1\"]],\n",
    "    )\n",
    "    elo_scores[game[\"team_2_player_2\"]] = calc_adjusted_rating(\n",
    "        1 - true_score,\n",
    "        1 - expected_score_1,\n",
    "        elo_scores[game[\"team_2_player_2\"]],\n",
    "    )\n",
    "    \n",
    "elo_scores"
   ]
  },
  {
   "cell_type": "code",
   "execution_count": null,
   "id": "6b313bcd",
   "metadata": {},
   "outputs": [],
   "source": []
  }
 ],
 "metadata": {
  "kernelspec": {
   "display_name": "Python 3 (ipykernel)",
   "language": "python",
   "name": "python3"
  },
  "language_info": {
   "codemirror_mode": {
    "name": "ipython",
    "version": 3
   },
   "file_extension": ".py",
   "mimetype": "text/x-python",
   "name": "python",
   "nbconvert_exporter": "python",
   "pygments_lexer": "ipython3",
   "version": "3.9.7"
  }
 },
 "nbformat": 4,
 "nbformat_minor": 5
}
