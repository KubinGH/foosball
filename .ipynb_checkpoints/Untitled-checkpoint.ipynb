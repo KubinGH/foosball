{
 "cells": [
  {
   "cell_type": "code",
   "execution_count": 1,
   "id": "1f2cde7a",
   "metadata": {},
   "outputs": [],
   "source": [
    "import numpy as np\n",
    "from numpy import linalg\n",
    "import requests\n",
    "import csv"
   ]
  },
  {
   "cell_type": "code",
   "execution_count": 2,
   "id": "ce3e464c",
   "metadata": {},
   "outputs": [
    {
     "data": {
      "text/plain": [
       "161"
      ]
     },
     "execution_count": 2,
     "metadata": {},
     "output_type": "execute_result"
    }
   ],
   "source": [
    "csv_url = \"https://docs.google.com/spreadsheets/d/1ijei0ZhIdPiY_TazfB2JZAAoNi3CWowgPquQuLv3oSU/edit?usp=sharing\"\n",
    "key = \"1ijei0ZhIdPiY_TazfB2JZAAoNi3CWowgPquQuLv3oSU\"\n",
    "sheet_name = \"games\"\n",
    "csv_url = f\"https://docs.google.com/spreadsheets/d/{key}/gviz/tq?tqx=out:csv&sheet={sheet_name}\"\n",
    "result = requests.get(url=csv_url)\n",
    "open(\"games.csv\", \"wb\").write(result.content)"
   ]
  },
  {
   "cell_type": "code",
   "execution_count": 3,
   "id": "0bb7499c",
   "metadata": {},
   "outputs": [
    {
     "data": {
      "text/plain": [
       "{'ConnorLeggett': 0, 'ChrisOng': 1, 'AlyssaChen': 2, 'KevinLuo': 3}"
      ]
     },
     "execution_count": 3,
     "metadata": {},
     "output_type": "execute_result"
    }
   ],
   "source": [
    "players_set = set()\n",
    "games = []\n",
    "\n",
    "def extract_players(game):\n",
    "    positions = [\n",
    "        \"team_1_player_1\",\n",
    "        \"team_1_player_2\",\n",
    "        \"team_2_player_1\",\n",
    "        \"team_2_player_2\",\n",
    "    ]\n",
    "    players = {game[position] for position in positions if game[position]}\n",
    "    return players\n",
    "\n",
    "with open('games.csv') as csvfile:\n",
    "    reader = csv.DictReader(csvfile)\n",
    "    for row in reader:\n",
    "        games.append(row)\n",
    "\n",
    "for game in games:\n",
    "    players_set = players_set.union(extract_players(game))\n",
    "\n",
    "players = list(players_set)\n",
    "n_players = len(players)\n",
    "player_numbers = {players[i]: i for i in range(n_players)}\n",
    "player_numbers"
   ]
  },
  {
   "cell_type": "code",
   "execution_count": 4,
   "id": "5e80e766",
   "metadata": {},
   "outputs": [],
   "source": [
    "games_matrix = np.zeros((len(games), n_players))\n",
    "results_array = np.zeros(len(games))"
   ]
  },
  {
   "cell_type": "code",
   "execution_count": 5,
   "id": "876961cf",
   "metadata": {},
   "outputs": [
    {
     "name": "stdout",
     "output_type": "stream",
     "text": [
      "{'team_1_player_1': 'ConnorLeggett', 'team_1_player_2': 'ChrisOng', 'team_2_player_1': 'AlyssaChen', 'team_2_player_2': 'KevinLuo', 'team_1_score': '10', 'team_2_score': '6'}\n",
      "0\n"
     ]
    }
   ],
   "source": [
    "for row, game in enumerate(games):\n",
    "    print(game)\n",
    "    print(row)\n",
    "    games_matrix[row, player_numbers[game[\"team_1_player_1\"]]] = 1\n",
    "    games_matrix[row, player_numbers[game[\"team_2_player_1\"]]] = -1\n",
    "    games_matrix[row, player_numbers[game[\"team_1_player_2\"]]] = 1\n",
    "    games_matrix[row, player_numbers[game[\"team_2_player_2\"]]] = -1\n",
    "    results_array[row] = int(game[\"team_1_score\"]) - int(game[\"team_2_score\"])\n",
    "    \n",
    "    \n",
    "    "
   ]
  },
  {
   "cell_type": "code",
   "execution_count": 6,
   "id": "dd60a3fe",
   "metadata": {},
   "outputs": [
    {
     "data": {
      "text/plain": [
       "(array([[ 1.,  1., -1., -1.]]), array([4.]))"
      ]
     },
     "execution_count": 6,
     "metadata": {},
     "output_type": "execute_result"
    }
   ],
   "source": [
    "games_matrix, results_array"
   ]
  },
  {
   "cell_type": "code",
   "execution_count": 7,
   "id": "99aad61c",
   "metadata": {},
   "outputs": [
    {
     "name": "stderr",
     "output_type": "stream",
     "text": [
      "/var/folders/hq/ypf9892n1s94fwgm0p6k6k8m0000gn/T/ipykernel_902/3683360901.py:1: FutureWarning: `rcond` parameter will change to the default of machine precision times ``max(M, N)`` where M and N are the input matrix dimensions.\n",
      "To use the future default and silence this warning we advise to pass `rcond=None`, to keep using the old, explicitly pass `rcond=-1`.\n",
      "  scores = linalg.lstsq(games_matrix,results_array)[0]\n"
     ]
    }
   ],
   "source": [
    "scores = linalg.lstsq(games_matrix,results_array)[0]"
   ]
  },
  {
   "cell_type": "code",
   "execution_count": 8,
   "id": "4841a852",
   "metadata": {},
   "outputs": [],
   "source": [
    "player_scores = {players[i]: scores[i] for i in range(n_players)}"
   ]
  },
  {
   "cell_type": "code",
   "execution_count": 9,
   "id": "b1385f6f",
   "metadata": {},
   "outputs": [],
   "source": [
    "players.sort(key=lambda p: player_scores[p], reverse=True)"
   ]
  },
  {
   "cell_type": "code",
   "execution_count": 10,
   "id": "398d2ddb",
   "metadata": {},
   "outputs": [
    {
     "data": {
      "text/plain": [
       "['ConnorLeggett', 'ChrisOng', 'AlyssaChen', 'KevinLuo']"
      ]
     },
     "execution_count": 10,
     "metadata": {},
     "output_type": "execute_result"
    }
   ],
   "source": [
    "players"
   ]
  },
  {
   "cell_type": "code",
   "execution_count": 11,
   "id": "58b69223",
   "metadata": {},
   "outputs": [
    {
     "name": "stdout",
     "output_type": "stream",
     "text": [
      "1: ConnorLeggett (1.000)\n",
      "2: ChrisOng (1.000)\n",
      "3: AlyssaChen (-1.000)\n",
      "4: KevinLuo (-1.000)\n"
     ]
    }
   ],
   "source": [
    "for i, player in enumerate(players):\n",
    "    print(f\"{i + 1}: {player} ({player_scores[player]:.3f})\")"
   ]
  },
  {
   "cell_type": "markdown",
   "id": "f8a5fc2d",
   "metadata": {},
   "source": [
    "# ELO-based system"
   ]
  },
  {
   "cell_type": "code",
   "execution_count": 20,
   "id": "64784127",
   "metadata": {},
   "outputs": [
    {
     "data": {
      "text/plain": [
       "(0.5, 0.5)"
      ]
     },
     "execution_count": 20,
     "metadata": {},
     "output_type": "execute_result"
    }
   ],
   "source": [
    "def calc_expected_score(p1_rating, p2_rating, p3_rating, p4_rating):\n",
    "    team_1 = (p1_rating + p2_rating) / 2\n",
    "    team_2 = (p3_rating + p4_rating) / 2\n",
    "    e_ab = 1 / (1 + 10 ** ((team_2 - team_1) / 500))\n",
    "    return e_ab, 1 - e_ab\n",
    "    \n",
    "def calc_true_score(score_1, score_2):\n",
    "    return score_1 / (score_1 + score_2)\n",
    "\n",
    "def adjust_rating(true_score, expected_score, old_rating):\n",
    "    return old_rating * 100 * (true_score - expected_score)"
   ]
  },
  {
   "cell_type": "code",
   "execution_count": 12,
   "id": "586ac2e2",
   "metadata": {},
   "outputs": [
    {
     "data": {
      "text/plain": [
       "{'ConnorLeggett': 1000, 'ChrisOng': 1000, 'AlyssaChen': 1000, 'KevinLuo': 1000}"
      ]
     },
     "execution_count": 12,
     "metadata": {},
     "output_type": "execute_result"
    }
   ],
   "source": [
    "elo_scores = {player: 1000 for player in players}\n",
    "elo_scores"
   ]
  },
  {
   "cell_type": "code",
   "execution_count": null,
   "id": "1b2ca5ee",
   "metadata": {},
   "outputs": [],
   "source": []
  }
 ],
 "metadata": {
  "kernelspec": {
   "display_name": "Python 3 (ipykernel)",
   "language": "python",
   "name": "python3"
  },
  "language_info": {
   "codemirror_mode": {
    "name": "ipython",
    "version": 3
   },
   "file_extension": ".py",
   "mimetype": "text/x-python",
   "name": "python",
   "nbconvert_exporter": "python",
   "pygments_lexer": "ipython3",
   "version": "3.9.7"
  }
 },
 "nbformat": 4,
 "nbformat_minor": 5
}
